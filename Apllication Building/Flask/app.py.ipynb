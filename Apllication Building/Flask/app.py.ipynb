{
 "cells": [
  {
   "cell_type": "code",
   "execution_count": 4,
   "id": "35df3611",
   "metadata": {
    "scrolled": true
   },
   "outputs": [
    {
     "name": "stdout",
     "output_type": "stream",
     "text": [
      "Collecting camera\n",
      "  Downloading camera-1.3.0.tar.gz (1.3 kB)\n",
      "Building wheels for collected packages: camera\n",
      "  Building wheel for camera (setup.py): started\n",
      "  Building wheel for camera (setup.py): finished with status 'done'\n",
      "  Created wheel for camera: filename=camera-1.3.0-py3-none-any.whl size=1790 sha256=8487bdade197bdf8dd63509ac14fcf197e89ef7e2ceb46a0c18702053126afff\n",
      "  Stored in directory: c:\\users\\a\\appdata\\local\\pip\\cache\\wheels\\bb\\3b\\74\\5f188f33882c695e8fdaceb3f3a06775bb5c4cc87f058020ec\n",
      "Successfully built camera\n",
      "Installing collected packages: camera\n",
      "Successfully installed camera-1.3.0\n",
      "Note: you may need to restart the kernel to use updated packages.\n"
     ]
    }
   ],
   "source": [
    "pip install camera"
   ]
  },
  {
   "cell_type": "code",
   "execution_count": 19,
   "id": "32dce72c",
   "metadata": {
    "scrolled": true
   },
   "outputs": [],
   "source": [
    "from flask import Flask, Response, render_template \n",
    "import camera"
   ]
  },
  {
   "cell_type": "code",
   "execution_count": 16,
   "id": "d9bb19f1",
   "metadata": {},
   "outputs": [],
   "source": [
    "app = Flask(__name__) \n",
    "@app.route('/') \n",
    "def index(): \n",
    "    return render_template('index.html')"
   ]
  },
  {
   "cell_type": "code",
   "execution_count": null,
   "id": "e2938588",
   "metadata": {},
   "outputs": [],
   "source": [
    "def gen(camera): while True: frame = camera.get_frame() \n",
    "        yield(b'–frame'b’Content-Type: image/jpeg’ + frame + b’’)"
   ]
  },
  {
   "cell_type": "code",
   "execution_count": null,
   "id": "ee933442",
   "metadata": {},
   "outputs": [],
   "source": [
    "@app.route(‘/video_feed’) \n",
    "def video_feed(): video = Video() \n",
    "    return\n",
    "Response(gen(video), mimetype=‘multipart/x-mixed-replace; \n",
    "         boundary =frame’)"
   ]
  },
  {
   "cell_type": "code",
   "execution_count": null,
   "id": "7e6bb9d4",
   "metadata": {},
   "outputs": [],
   "source": [
    "if **name** == ‘**main**’: \n",
    "    app.run()"
   ]
  }
 ],
 "metadata": {
  "kernelspec": {
   "display_name": "Python 3 (ipykernel)",
   "language": "python",
   "name": "python3"
  },
  "language_info": {
   "codemirror_mode": {
    "name": "ipython",
    "version": 3
   },
   "file_extension": ".py",
   "mimetype": "text/x-python",
   "name": "python",
   "nbconvert_exporter": "python",
   "pygments_lexer": "ipython3",
   "version": "3.9.12"
  }
 },
 "nbformat": 4,
 "nbformat_minor": 5
}
